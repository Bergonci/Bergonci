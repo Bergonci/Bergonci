{
  "nbformat": 4,
  "nbformat_minor": 0,
  "metadata": {
    "colab": {
      "name": "Python Básico 02 - Manipulação de strings.ipynb",
      "provenance": [],
      "collapsed_sections": [],
      "include_colab_link": true
    },
    "kernelspec": {
      "name": "python3",
      "display_name": "Python 3"
    }
  },
  "cells": [
    {
      "cell_type": "markdown",
      "metadata": {
        "id": "view-in-github",
        "colab_type": "text"
      },
      "source": [
        "<a href=\"https://colab.research.google.com/github/Bergonci/Bergonci/blob/main/Python_B%C3%A1sico_02_Manipula%C3%A7%C3%A3o_de_strings.ipynb\" target=\"_parent\"><img src=\"https://colab.research.google.com/assets/colab-badge.svg\" alt=\"Open In Colab\"/></a>"
      ]
    },
    {
      "cell_type": "markdown",
      "metadata": {
        "id": "eJbkoKIhVtuf"
      },
      "source": [
        "# Manipulação de strings\n",
        "O Python permite formar strings com um par de aspas simples ou duplas.\n",
        "https://developers.google.com/edu/python/strings"
      ]
    },
    {
      "cell_type": "code",
      "metadata": {
        "id": "TspZ9SRGqF1l",
        "colab": {
          "base_uri": "https://localhost:8080/"
        },
        "outputId": "f110a91a-6d48-42e0-d2a7-8f74bc860c61"
      },
      "source": [
        "palavra = 'univates'\n",
        "print(palavra)"
      ],
      "execution_count": null,
      "outputs": [
        {
          "output_type": "stream",
          "name": "stdout",
          "text": [
            "univates\n"
          ]
        }
      ]
    },
    {
      "cell_type": "code",
      "metadata": {
        "id": "ECcuB0rPqNLV",
        "colab": {
          "base_uri": "https://localhost:8080/"
        },
        "outputId": "f58162f6-19c2-49d1-e54e-4597f363e2e2"
      },
      "source": [
        "# Converter para maiúsculo\n",
        "maiuscula = palavra.upper()\n",
        "print(maiuscula)"
      ],
      "execution_count": null,
      "outputs": [
        {
          "output_type": "stream",
          "name": "stdout",
          "text": [
            "UNIVATES\n"
          ]
        }
      ]
    },
    {
      "cell_type": "code",
      "metadata": {
        "id": "Y7ew8u5nqa0s",
        "colab": {
          "base_uri": "https://localhost:8080/"
        },
        "outputId": "2ff6c3e6-25fd-4181-b1f4-94b1d1e7c5a6"
      },
      "source": [
        "# Converter para minúsculo\n",
        "minuscula = maiuscula.lower()\n",
        "print(minuscula)"
      ],
      "execution_count": null,
      "outputs": [
        {
          "output_type": "stream",
          "name": "stdout",
          "text": [
            "univates\n"
          ]
        }
      ]
    },
    {
      "cell_type": "code",
      "metadata": {
        "id": "_n4eG1K3qjIG",
        "colab": {
          "base_uri": "https://localhost:8080/"
        },
        "outputId": "b5c9ec16-8efa-40e5-d4ab-beea10557cbe"
      },
      "source": [
        "# Capitalizar a primeira letra da string\n",
        "capital = palavra.capitalize()\n",
        "print(capital)"
      ],
      "execution_count": null,
      "outputs": [
        {
          "output_type": "stream",
          "name": "stdout",
          "text": [
            "Univates\n"
          ]
        }
      ]
    },
    {
      "cell_type": "code",
      "metadata": {
        "id": "7cb8yYi_qukU",
        "colab": {
          "base_uri": "https://localhost:8080/"
        },
        "outputId": "4d8c0acf-57af-4198-880e-a6a0964db401"
      },
      "source": [
        "# Pegar 'partes' de uma string\n",
        "parte = palavra[0]\n",
        "print(parte)"
      ],
      "execution_count": null,
      "outputs": [
        {
          "output_type": "stream",
          "name": "stdout",
          "text": [
            "u\n"
          ]
        }
      ]
    },
    {
      "cell_type": "code",
      "metadata": {
        "id": "MR-NHXsPTiww",
        "colab": {
          "base_uri": "https://localhost:8080/"
        },
        "outputId": "5c39a9fc-84a2-49c8-9add-15eb3e57e49b"
      },
      "source": [
        "# Pegar 'partes' de uma string\n",
        "parte = palavra[3:6]\n",
        "print(parte)"
      ],
      "execution_count": null,
      "outputs": [
        {
          "output_type": "stream",
          "name": "stdout",
          "text": [
            "vat\n"
          ]
        }
      ]
    },
    {
      "cell_type": "code",
      "metadata": {
        "id": "Z7XlHkUGSzH5",
        "colab": {
          "base_uri": "https://localhost:8080/"
        },
        "outputId": "6c031054-21bc-454d-c782-cacfb0f9174f"
      },
      "source": [
        "# Pegar 'partes' de uma string\n",
        "parte = palavra[3:]\n",
        "print(parte)"
      ],
      "execution_count": null,
      "outputs": [
        {
          "output_type": "stream",
          "name": "stdout",
          "text": [
            "vates\n"
          ]
        }
      ]
    },
    {
      "cell_type": "code",
      "metadata": {
        "id": "dLLyj6RaTAU1",
        "colab": {
          "base_uri": "https://localhost:8080/"
        },
        "outputId": "172e70ea-9aa2-4752-a4d3-fad1095c3949"
      },
      "source": [
        "# Pegar 'partes' de uma string\n",
        "parte = palavra[:2]\n",
        "print(parte)"
      ],
      "execution_count": null,
      "outputs": [
        {
          "output_type": "stream",
          "name": "stdout",
          "text": [
            "un\n"
          ]
        }
      ]
    },
    {
      "cell_type": "code",
      "metadata": {
        "id": "M0zabxMJrIfI",
        "colab": {
          "base_uri": "https://localhost:8080/"
        },
        "outputId": "3e44bba1-5a40-44c2-e3f2-b9d0a5d6a81b"
      },
      "source": [
        "# Pegar 'partes' de uma string\n",
        "parte = palavra[-3:]\n",
        "print(parte)"
      ],
      "execution_count": null,
      "outputs": [
        {
          "output_type": "stream",
          "name": "stdout",
          "text": [
            "tes\n"
          ]
        }
      ]
    },
    {
      "cell_type": "code",
      "metadata": {
        "id": "F4VyXvoWrT1y",
        "colab": {
          "base_uri": "https://localhost:8080/"
        },
        "outputId": "a8677752-b71d-4b8e-8c43-4ecf11dd6f84"
      },
      "source": [
        "# A função replace() substitui uma parte do texto por uma outra String\n",
        "x = palavra\n",
        "y = x.replace('va', 'xx')\n",
        "print(x)\n",
        "print(y)"
      ],
      "execution_count": null,
      "outputs": [
        {
          "output_type": "stream",
          "name": "stdout",
          "text": [
            "univates\n",
            "unixxtes\n"
          ]
        }
      ]
    },
    {
      "cell_type": "code",
      "metadata": {
        "id": "wKLt-VwLrk8F",
        "colab": {
          "base_uri": "https://localhost:8080/"
        },
        "outputId": "29bf77ed-dc40-4ac0-c196-d0003fd3f06f"
      },
      "source": [
        "# A função replace() substitui uma parte do texto por uma outra String\n",
        "z = x.replace('a', 'o')\n",
        "print(z)"
      ],
      "execution_count": null,
      "outputs": [
        {
          "output_type": "stream",
          "name": "stdout",
          "text": [
            "univotes\n"
          ]
        }
      ]
    },
    {
      "cell_type": "code",
      "metadata": {
        "id": "2k0QLQmirwVa",
        "colab": {
          "base_uri": "https://localhost:8080/"
        },
        "outputId": "43897ad0-6615-4d56-8c5a-c42bd774cefc"
      },
      "source": [
        "# Pegar um caractere e encontra (find) em qual índice aquele caractere aparece\n",
        "z.find('t')"
      ],
      "execution_count": null,
      "outputs": [
        {
          "output_type": "execute_result",
          "data": {
            "text/plain": [
              "5"
            ]
          },
          "metadata": {},
          "execution_count": 12
        }
      ]
    },
    {
      "cell_type": "code",
      "metadata": {
        "id": "4NANRZUyr6Yu",
        "colab": {
          "base_uri": "https://localhost:8080/"
        },
        "outputId": "db388c58-2844-495b-f496-0fe0d04532ed"
      },
      "source": [
        "# Pegar um caractere e encontra (find) em qual índice aquele caractere aparece\n",
        "z.find('a')"
      ],
      "execution_count": null,
      "outputs": [
        {
          "output_type": "execute_result",
          "data": {
            "text/plain": [
              "-1"
            ]
          },
          "metadata": {},
          "execution_count": 13
        }
      ]
    },
    {
      "cell_type": "code",
      "metadata": {
        "id": "fdYqKZ0bsQoH",
        "colab": {
          "base_uri": "https://localhost:8080/"
        },
        "outputId": "7a2fb9a3-3bdf-45a4-c23d-4d8a1f9006b2"
      },
      "source": [
        "# Retorna o número de caracteres no string\n",
        "cidade = 'lajeado'\n",
        "print(len(cidade))"
      ],
      "execution_count": null,
      "outputs": [
        {
          "output_type": "stream",
          "name": "stdout",
          "text": [
            "7\n"
          ]
        }
      ]
    },
    {
      "cell_type": "code",
      "metadata": {
        "id": "dAiQ-Tvvsq5w"
      },
      "source": [
        "n1 = 14\n",
        "n2 = 16"
      ],
      "execution_count": null,
      "outputs": []
    },
    {
      "cell_type": "code",
      "metadata": {
        "id": "lZF900eqU6Ro",
        "colab": {
          "base_uri": "https://localhost:8080/"
        },
        "outputId": "3d575b75-956a-4be0-e795-9acc0b5a1df9"
      },
      "source": [
        "print('Dividindo ', n1, ' por ', n2, ' o resultado é ', n1/n2)"
      ],
      "execution_count": null,
      "outputs": [
        {
          "output_type": "stream",
          "name": "stdout",
          "text": [
            "Dividindo  14  por  16  o resultado é  0.875\n"
          ]
        }
      ]
    },
    {
      "cell_type": "code",
      "metadata": {
        "id": "TbGUSRf3XJNF",
        "colab": {
          "base_uri": "https://localhost:8080/"
        },
        "outputId": "cc48e48f-858d-4def-9a2a-1aa22989e1b0"
      },
      "source": [
        "pi = 3.14\n",
        "##text = 'O valor de pi é ' + pi      ## NÃO, não vai funcionar\n",
        "text = 'O valor de pi é '  + str(pi)  ## SIM\n",
        "print(text)"
      ],
      "execution_count": null,
      "outputs": [
        {
          "output_type": "stream",
          "name": "stdout",
          "text": [
            "O valor de pi é 3.14\n"
          ]
        }
      ]
    },
    {
      "cell_type": "code",
      "metadata": {
        "id": "790k0NTEsuiq",
        "colab": {
          "base_uri": "https://localhost:8080/"
        },
        "outputId": "47fb0e90-2ab4-4cfc-8fde-c5675d84f78b"
      },
      "source": [
        "# Dentro de uma string pode-se escrever uma expressão Python entre caracteres { e }, \n",
        "# que podem se referir a variáveis, ou valores literais\n",
        "print(f'Dividindo {n1} por {n2} o resultado é {n1/n2}')"
      ],
      "execution_count": null,
      "outputs": [
        {
          "output_type": "stream",
          "name": "stdout",
          "text": [
            "Dividindo 14 por 16 o resultado é 0.875\n"
          ]
        }
      ]
    },
    {
      "cell_type": "markdown",
      "source": [
        "More Python Strings:\n",
        "https://developers.google.com/edu/python/strings"
      ],
      "metadata": {
        "id": "7Zfkm4Wnfo-s"
      }
    }
  ]
}